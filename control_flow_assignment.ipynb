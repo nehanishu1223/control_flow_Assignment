{
 "cells": [
  {
   "cell_type": "markdown",
   "id": "89945d76-5c3a-4f3a-ab16-fc161be870e9",
   "metadata": {},
   "source": [
    "##Control Flow Assignment##"
   ]
  },
  {
   "cell_type": "markdown",
   "id": "e856ef2d-d9bc-4baf-9bd8-6a4ac0925bde",
   "metadata": {},
   "source": [
    "Solution 1"
   ]
  },
  {
   "cell_type": "code",
   "execution_count": 4,
   "id": "6eec05e7-d166-48ab-8316-cd1bc9cd2dc4",
   "metadata": {},
   "outputs": [
    {
     "name": "stdin",
     "output_type": "stream",
     "text": [
      "Enter the number: 9\n"
     ]
    },
    {
     "name": "stdout",
     "output_type": "stream",
     "text": [
      "The number is positive\n"
     ]
    }
   ],
   "source": [
    "given_number = int(input(\"Enter the number:\"))\n",
    "if given_number > 0:\n",
    "    print(\"The number is positive\")\n",
    "else:\n",
    "    print(\"The given number is negative\")\n",
    "\n"
   ]
  },
  {
   "cell_type": "markdown",
   "id": "a692409a-3686-45ba-bbcb-785da8d27c88",
   "metadata": {},
   "source": [
    "Solution 2\n"
   ]
  },
  {
   "cell_type": "code",
   "execution_count": 5,
   "id": "b712cce7-d60f-4d6c-ab89-fa13200b7ebe",
   "metadata": {},
   "outputs": [
    {
     "name": "stdin",
     "output_type": "stream",
     "text": [
      "Enter the age: 89\n"
     ]
    },
    {
     "name": "stdout",
     "output_type": "stream",
     "text": [
      "Person is eligible for voting\n"
     ]
    }
   ],
   "source": [
    "age = int(input(\"Enter the age:\"))\n",
    "if age >= 18:\n",
    "    print(\"Person is eligible for voting\")\n",
    "else:\n",
    "    print(\"Not eligible\")"
   ]
  },
  {
   "cell_type": "markdown",
   "id": "32ae53ad-d04a-4599-87c9-2a318a839244",
   "metadata": {},
   "source": [
    "Solution 3"
   ]
  },
  {
   "cell_type": "code",
   "execution_count": 6,
   "id": "d126a757-1a74-4f11-8be8-58b975576457",
   "metadata": {},
   "outputs": [
    {
     "name": "stdin",
     "output_type": "stream",
     "text": [
      "Enter the num1: 9\n",
      "Enter the num2: 8\n"
     ]
    },
    {
     "name": "stdout",
     "output_type": "stream",
     "text": [
      "The num1 is greater: 9\n"
     ]
    }
   ],
   "source": [
    "num1 = int(input(\"Enter the num1:\"))\n",
    "num2 = int(input(\"Enter the num2:\"))\n",
    "if num1 > num2:\n",
    "    print(\"The num1 is greater:\", num1)\n",
    "else:\n",
    "    print(\"The num2 is greater:\", num2)\n"
   ]
  },
  {
   "cell_type": "markdown",
   "id": "e2ba8e7c-1b03-48c1-985c-ee02932b044c",
   "metadata": {},
   "source": [
    "Solution 4"
   ]
  },
  {
   "cell_type": "code",
   "execution_count": 7,
   "id": "22223e2c-d122-428c-9360-028063bb6259",
   "metadata": {},
   "outputs": [
    {
     "name": "stdin",
     "output_type": "stream",
     "text": [
      "Enter the year: 2024\n"
     ]
    },
    {
     "name": "stdout",
     "output_type": "stream",
     "text": [
      "The given year is leap year.\n"
     ]
    }
   ],
   "source": [
    "leap_year = int(input(\"Enter the year:\"))\n",
    "if leap_year%4 == 0:\n",
    "    print(\"The given year is leap year.\")\n",
    "else:\n",
    "    print(\"The given year is not leap year.\")"
   ]
  },
  {
   "cell_type": "markdown",
   "id": "64589ce2-5dee-476f-972d-deaa63310572",
   "metadata": {},
   "source": [
    "Solution 5"
   ]
  },
  {
   "cell_type": "code",
   "execution_count": 9,
   "id": "f74cb86f-a39a-4d74-be6b-b99c4a8a3541",
   "metadata": {},
   "outputs": [
    {
     "name": "stdin",
     "output_type": "stream",
     "text": [
      "Enter a character:  pwskills\n"
     ]
    },
    {
     "name": "stdout",
     "output_type": "stream",
     "text": [
      "pwskills is a consonant.\n"
     ]
    }
   ],
   "source": [
    "\n",
    "character = input(\"Enter a character: \")\n",
    "char = character.lower()\n",
    "if char in 'aeiou':\n",
    "    print(f\"{char} is a vowel.\")\n",
    "elif char.isalpha():\n",
    "    print(f\"{char} is a consonant.\")\n",
    "else:\n",
    "    print(\"Please enter a valid letter.\")\n"
   ]
  },
  {
   "cell_type": "markdown",
   "id": "18f23dd2-ad2a-403a-936c-e664f99388a4",
   "metadata": {},
   "source": [
    "Solution 6"
   ]
  },
  {
   "cell_type": "code",
   "execution_count": 10,
   "id": "25b89083-832a-4974-8dbd-ed03a6f2d1e5",
   "metadata": {},
   "outputs": [
    {
     "name": "stdin",
     "output_type": "stream",
     "text": [
      "Enter the number:  89\n"
     ]
    },
    {
     "name": "stdout",
     "output_type": "stream",
     "text": [
      "The given no is odd.\n"
     ]
    }
   ],
   "source": [
    "given_number = int(input(\"Enter the number: \"))\n",
    "if given_number%2 == 0:\n",
    "    print(\"The given no is even.\")\n",
    "else:\n",
    "    print(\"The given no is odd.\")"
   ]
  },
  {
   "cell_type": "markdown",
   "id": "1b11eea4-e2ce-4c09-b042-feca7fc5bd51",
   "metadata": {},
   "source": [
    "Solution 7"
   ]
  },
  {
   "cell_type": "code",
   "execution_count": 11,
   "id": "272f922d-d6c8-4d5b-a63f-16b3478b12a0",
   "metadata": {},
   "outputs": [
    {
     "name": "stdin",
     "output_type": "stream",
     "text": [
      "Enter the number:  78\n"
     ]
    },
    {
     "name": "stdout",
     "output_type": "stream",
     "text": [
      "The absolute value of given number is: 78\n"
     ]
    }
   ],
   "source": [
    "given_number = int(input(\"Enter the number: \"))\n",
    "absolute_value = max(given_number, -given_number)\n",
    "print(\"The absolute value of given number is:\", absolute_value)\n",
    "\n"
   ]
  },
  {
   "cell_type": "markdown",
   "id": "a255ed8a-84cf-4120-b5b6-2dfc07283de2",
   "metadata": {},
   "source": [
    "Solution 8"
   ]
  },
  {
   "cell_type": "code",
   "execution_count": 13,
   "id": "8b91c53c-c706-47d1-bf30-e425ccd64a9e",
   "metadata": {},
   "outputs": [
    {
     "name": "stdin",
     "output_type": "stream",
     "text": [
      "Enter the first number:  8\n",
      "Enter the second number:  9\n",
      "Enter the third number:  5\n"
     ]
    },
    {
     "name": "stdout",
     "output_type": "stream",
     "text": [
      "The largest number is: 9.0\n"
     ]
    }
   ],
   "source": [
    "\n",
    "num1 = float(input(\"Enter the first number: \"))\n",
    "num2 = float(input(\"Enter the second number: \"))\n",
    "num3 = float(input(\"Enter the third number: \"))\n",
    "if num1 >= num2 and num1 >= num3:\n",
    "    largest = num1\n",
    "elif num2 >= num1 and num2 >= num3:\n",
    "    largest = num2\n",
    "else:\n",
    "    largest = num3\n",
    "print(\"The largest number is:\", largest)\n"
   ]
  },
  {
   "cell_type": "markdown",
   "id": "ab68c3ee-0fe9-4068-9295-ff7a06e56e67",
   "metadata": {},
   "source": [
    "Solution 9"
   ]
  },
  {
   "cell_type": "code",
   "execution_count": 14,
   "id": "ba53733f-c4df-4ff5-8dff-b34809d6e636",
   "metadata": {},
   "outputs": [
    {
     "name": "stdin",
     "output_type": "stream",
     "text": [
      "Enter a number 98\n"
     ]
    },
    {
     "name": "stdout",
     "output_type": "stream",
     "text": [
      "No, its not a palindrome\n"
     ]
    }
   ],
   "source": [
    "num = input(\"Enter a number\")\n",
    "if num == num[::-1]:\n",
    "\tprint(\"Yes its a palindrome\")\n",
    "else:\n",
    "\tprint(\"No, its not a palindrome\")\n"
   ]
  },
  {
   "cell_type": "markdown",
   "id": "0ad81f32-059e-44b3-8726-e1fc0b9a228f",
   "metadata": {},
   "source": [
    "Solution 10"
   ]
  },
  {
   "cell_type": "code",
   "execution_count": 15,
   "id": "044447af-2ab6-46a4-b657-da071374f795",
   "metadata": {},
   "outputs": [
    {
     "name": "stdin",
     "output_type": "stream",
     "text": [
      "Enter the score:  800\n"
     ]
    },
    {
     "name": "stdout",
     "output_type": "stream",
     "text": [
      "Grade A\n"
     ]
    }
   ],
   "source": [
    "score = int(input(\"Enter the score: \"))\n",
    "if score>= 90:\n",
    "    print(\"Grade A\")\n",
    "else:\n",
    "    print(\"Grade B\")"
   ]
  },
  {
   "cell_type": "markdown",
   "id": "0da9b53a-2b7d-429b-86c3-fd8677acc51d",
   "metadata": {},
   "source": [
    "Solution 11"
   ]
  },
  {
   "cell_type": "code",
   "execution_count": 1,
   "id": "c159c3fc-e996-450f-864f-65006cd8d69b",
   "metadata": {},
   "outputs": [
    {
     "name": "stdin",
     "output_type": "stream",
     "text": [
      "Enter the first number:  700\n",
      "Enter the second number:  878\n",
      "Enter the third number:  987\n"
     ]
    },
    {
     "name": "stdout",
     "output_type": "stream",
     "text": [
      "The largest number among 700.0 , 878.0 , and 987.0 is: 987.0\n"
     ]
    }
   ],
   "source": [
    "\n",
    "num1 = float(input(\"Enter the first number: \"))\n",
    "num2 = float(input(\"Enter the second number: \"))\n",
    "num3 = float(input(\"Enter the third number: \"))\n",
    "if num1 >= num2:\n",
    "    if num1 >= num3:\n",
    "        largest = num1\n",
    "    else:\n",
    "        largest = num3\n",
    "else:\n",
    "    if num2 >= num3:\n",
    "        largest = num2\n",
    "    else:\n",
    "        largest = num3\n",
    "print(\"The largest number among\", num1, \",\", num2, \", and\", num3, \"is:\", largest)\n"
   ]
  },
  {
   "cell_type": "markdown",
   "id": "bc6da13e-9ecd-4cf2-aa8e-4e2d3079f33d",
   "metadata": {},
   "source": [
    "Solution 12"
   ]
  },
  {
   "cell_type": "code",
   "execution_count": 2,
   "id": "dfcbeef6-6aa3-4cf3-9d39-e7a01d21b314",
   "metadata": {},
   "outputs": [
    {
     "name": "stdin",
     "output_type": "stream",
     "text": [
      "Enter the side1 of the triangle:  80\n",
      "Enter the side2 of the triangle:  60\n",
      "Enter the side3 of the triangle:  90\n"
     ]
    },
    {
     "name": "stdout",
     "output_type": "stream",
     "text": [
      "This is scalene triangle.\n"
     ]
    }
   ],
   "source": [
    "side1 = int(input(\"Enter the side1 of the triangle: \"))\n",
    "side2 = int(input(\"Enter the side2 of the triangle: \"))\n",
    "side3 = int(input(\"Enter the side3 of the triangle: \"))\n",
    "if side1== side2 == side3:\n",
    "    print(\"This is an equilateral triangle.\")\n",
    "elif side1==side2!=side3:\n",
    "    print(\"This is isosceles triangle.\")\n",
    "else:\n",
    "    print(\"This is scalene triangle.\")\n"
   ]
  },
  {
   "cell_type": "markdown",
   "id": "a27b2ccf-619c-4702-aa0f-8440ecc06fdc",
   "metadata": {},
   "source": [
    "Solution 13"
   ]
  },
  {
   "cell_type": "code",
   "execution_count": 3,
   "id": "5598f633-c91b-4ff7-8b63-d6387b8e20db",
   "metadata": {},
   "outputs": [
    {
     "name": "stdin",
     "output_type": "stream",
     "text": [
      "Enter the year:  2024\n"
     ]
    },
    {
     "name": "stdout",
     "output_type": "stream",
     "text": [
      "This year is leap year.\n"
     ]
    }
   ],
   "source": [
    "year = int(input(\"Enter the year: \"))\n",
    "if year % 4 == 0:\n",
    "    print(\"This year is leap year.\")\n",
    "elif year % 100 == 0:\n",
    "    print(\"This year is century year.\")"
   ]
  },
  {
   "cell_type": "markdown",
   "id": "8833851e-4b5f-4572-9791-722ad137ffe1",
   "metadata": {},
   "source": [
    "Solution 14"
   ]
  },
  {
   "cell_type": "code",
   "execution_count": 4,
   "id": "88c88896-fe37-4b24-aeb1-3f4e7dd6e045",
   "metadata": {},
   "outputs": [
    {
     "name": "stdin",
     "output_type": "stream",
     "text": [
      "Enter the number: 876\n"
     ]
    },
    {
     "name": "stdout",
     "output_type": "stream",
     "text": [
      "The no is positive\n"
     ]
    }
   ],
   "source": [
    "num = int(input(\"Enter the number:\"))\n",
    "if num > 0:\n",
    "    print(\"The no is positive\")\n",
    "elif num < 0: \n",
    "    print(\"The no is negative\")\n",
    "else:\n",
    "    print(\"The no is 0\")\n",
    "\n"
   ]
  },
  {
   "cell_type": "markdown",
   "id": "133a03ef-4548-49da-a18c-c0c6c9244ea9",
   "metadata": {},
   "source": [
    "Solution 15"
   ]
  },
  {
   "cell_type": "code",
   "execution_count": 5,
   "id": "9c381d41-4331-4908-aaa1-a5ae7a9b791d",
   "metadata": {},
   "outputs": [
    {
     "name": "stdin",
     "output_type": "stream",
     "text": [
      "Enter the age: 28\n"
     ]
    },
    {
     "name": "stdout",
     "output_type": "stream",
     "text": [
      "The person is adult\n"
     ]
    }
   ],
   "source": [
    "age = int(input(\"Enter the age:\"))\n",
    "if 19 >= age >= 13:\n",
    "    print(\"The person is teenager.\")\n",
    "elif age < 13:\n",
    "    print(\"The person is child.\")\n",
    "else:\n",
    "    print(\"The person is adult\")"
   ]
  },
  {
   "cell_type": "markdown",
   "id": "2f8fdf30-c1cb-4d5c-a236-815048ac3ea9",
   "metadata": {},
   "source": [
    "Solution 16"
   ]
  },
  {
   "cell_type": "code",
   "execution_count": 6,
   "id": "7ef7a17b-06ec-4812-b375-a1dc43118af5",
   "metadata": {},
   "outputs": [
    {
     "name": "stdin",
     "output_type": "stream",
     "text": [
      "Enter the angle:  90\n"
     ]
    },
    {
     "name": "stdout",
     "output_type": "stream",
     "text": [
      "right angle\n"
     ]
    }
   ],
   "source": [
    "angle = int(input(\"Enter the angle: \"))\n",
    "if 0 < angle < 90:\n",
    "    print(\"acute angle\")\n",
    "elif angle == 90:\n",
    "    print(\"right angle\")\n",
    "elif 180 >= angle > 90:\n",
    "    print(\"obtuse angle\")\n",
    "else:\n",
    "    print(\"other angle\")"
   ]
  },
  {
   "cell_type": "markdown",
   "id": "bf4fad51-11d4-496f-9a7d-e7d922d38896",
   "metadata": {},
   "source": [
    "Solution 17"
   ]
  },
  {
   "cell_type": "code",
   "execution_count": 9,
   "id": "d05fcdf0-1246-4890-a2e9-dd4f35d8566a",
   "metadata": {},
   "outputs": [
    {
     "name": "stdin",
     "output_type": "stream",
     "text": [
      "Enter the coefficient of x^2:  8\n",
      "Enter the coefficient of x:  9\n",
      "Enter the constant term:  72\n"
     ]
    },
    {
     "name": "stdout",
     "output_type": "stream",
     "text": [
      "Roots are complex.\n",
      "Root 1 = -0.5625 + 2.946793808531571 i\n",
      "Root 2 = -0.5625 - 2.946793808531571 i\n"
     ]
    }
   ],
   "source": [
    "\n",
    "a = float(input(\"Enter the coefficient of x^2: \"))\n",
    "b = float(input(\"Enter the coefficient of x: \"))\n",
    "c = float(input(\"Enter the constant term: \"))\n",
    "discriminant = b**2 - 4*a*c\n",
    "if discriminant > 0:\n",
    "    root1 = (-b + (discriminant ** 0.5)) / (2*a)\n",
    "    root2 = (-b - (discriminant ** 0.5)) / (2*a)\n",
    "    print(\"Roots are real and distinct.\")\n",
    "    print(\"Root 1 =\", root1)\n",
    "    print(\"Root 2 =\", root2)\n",
    "elif discriminant == 0:\n",
    "    root = -b / (2*a)\n",
    "    print(\"Roots are real and repeated.\")\n",
    "    print(\"Root =\", root)\n",
    "else:\n",
    "    real_part = -b / (2*a)\n",
    "    imaginary_part = (abs(discriminant) ** 0.5) / (2*a)\n",
    "    print(\"Roots are complex.\")\n",
    "    print(\"Root 1 =\", real_part, \"+\", imaginary_part, \"i\")\n",
    "    print(\"Root 2 =\", real_part, \"-\", imaginary_part, \"i\")\n"
   ]
  },
  {
   "cell_type": "markdown",
   "id": "eaf39daa-b7d5-44ba-bf0b-2f054f384651",
   "metadata": {},
   "source": [
    "Solution 18"
   ]
  },
  {
   "cell_type": "code",
   "execution_count": 10,
   "id": "c46b7fb0-500b-4c19-84d9-bac3a6adc252",
   "metadata": {},
   "outputs": [
    {
     "name": "stdin",
     "output_type": "stream",
     "text": [
      "Enter the day:  monday\n"
     ]
    },
    {
     "name": "stdout",
     "output_type": "stream",
     "text": [
      "Monday-1\n"
     ]
    }
   ],
   "source": [
    "day = input((\"Enter the day: \"))\n",
    "\n",
    "if day == \"monday\":\n",
    "    print(\"Monday-1\")\n",
    "elif day == \"tuesday\":\n",
    "    print(\"Tuesday-2\")\n",
    "elif day == \"wednesday\":\n",
    "    print(\"Wednesday-3\")\n",
    "elif day == \"thursday\":\n",
    "    print(\"Thursday-4\")\n",
    "elif day == \"friday\":\n",
    "    print(\"Friday-5\")\n",
    "elif day == \"saturday\":\n",
    "    print(\"Saturday-6\")\n",
    "elif day == \"sunday\":\n",
    "    print(\"Sunday-7\")\n"
   ]
  },
  {
   "cell_type": "markdown",
   "id": "da868e12-3ece-47af-9a0e-6057e53e68ac",
   "metadata": {},
   "source": [
    "Solution 19"
   ]
  },
  {
   "cell_type": "code",
   "execution_count": 11,
   "id": "cac95fc1-c852-4cd1-89f8-16dde105f87a",
   "metadata": {},
   "outputs": [
    {
     "name": "stdin",
     "output_type": "stream",
     "text": [
      "Enter the year:  2024\n"
     ]
    },
    {
     "name": "stdout",
     "output_type": "stream",
     "text": [
      "This is not a leap year\n"
     ]
    }
   ],
   "source": [
    "year = int(input(\"Enter the year: \"))\n",
    "if year % 400 == 0:\n",
    "    print(\"This is a leap year\")\n",
    "elif year % 400 != 0:\n",
    "    print(\"This is not a leap year\")\n"
   ]
  },
  {
   "cell_type": "markdown",
   "id": "1fea4ebb-2c40-4232-8a14-22e0cf3496a9",
   "metadata": {},
   "source": [
    "Solution 20"
   ]
  },
  {
   "cell_type": "code",
   "execution_count": 12,
   "id": "f960607b-7d35-49b2-8c8f-e0a2d18f8d8d",
   "metadata": {},
   "outputs": [
    {
     "name": "stdin",
     "output_type": "stream",
     "text": [
      "Enter the number 78\n"
     ]
    },
    {
     "name": "stdout",
     "output_type": "stream",
     "text": [
      "This is not a prime no\n"
     ]
    }
   ],
   "source": [
    "num = int(input(\"Enter the number\"))\n",
    "Prime = True\n",
    "for i in range (2, num):\n",
    "    if (num%i == 0 ):\n",
    "        Prime = False\n",
    "        break\n",
    "if Prime:\n",
    "    print(\"This is a prime no\")\n",
    "    \n",
    "else:\n",
    "    print(\"This is not a prime no\")\n",
    "\n"
   ]
  },
  {
   "cell_type": "markdown",
   "id": "d784da76-d41f-4806-98ff-1d542d7c7502",
   "metadata": {},
   "source": [
    "Solution 21"
   ]
  },
  {
   "cell_type": "code",
   "execution_count": 15,
   "id": "51542ba6-6d6b-4f44-95f8-3838273298ea",
   "metadata": {},
   "outputs": [
    {
     "name": "stdin",
     "output_type": "stream",
     "text": [
      "Enter the integer:  81\n"
     ]
    },
    {
     "name": "stdout",
     "output_type": "stream",
     "text": [
      "very good\n"
     ]
    }
   ],
   "source": [
    "grade = int(input(\"Enter the integer: \"))\n",
    "if  90< grade <= 100:\n",
    "    print(\"Excellent\")\n",
    "elif 80< grade <=90:\n",
    "    print(\"very good\")\n",
    "elif 70 < grade <= 80:\n",
    "    print(\"good\")"
   ]
  },
  {
   "cell_type": "markdown",
   "id": "a5d40a61-b5b0-42e6-953a-0a849181a05a",
   "metadata": {},
   "source": [
    "Solution 22"
   ]
  },
  {
   "cell_type": "code",
   "execution_count": 16,
   "id": "bec33228-6690-45ba-99fb-4cf802940347",
   "metadata": {},
   "outputs": [
    {
     "name": "stdin",
     "output_type": "stream",
     "text": [
      "Enter the angle:  89\n"
     ]
    },
    {
     "name": "stdout",
     "output_type": "stream",
     "text": [
      "acute angle\n"
     ]
    }
   ],
   "source": [
    "angle = int(input(\"Enter the angle: \"))\n",
    "if 0 < angle < 90:\n",
    "    print(\"acute angle\")\n",
    "elif angle == 90:\n",
    "    print(\"right angle\")\n",
    "elif 180 >= angle > 90:\n",
    "    print(\"obtuse angle\")\n",
    "else:\n",
    "    print(\"other angle\")"
   ]
  },
  {
   "cell_type": "raw",
   "id": "ab58ea6e-61f4-4f31-abde-5b58b3fbd0f7",
   "metadata": {},
   "source": [
    "Solution 23"
   ]
  },
  {
   "cell_type": "code",
   "execution_count": 17,
   "id": "6640972d-b126-42b0-a492-cd1b0bc4af4f",
   "metadata": {},
   "outputs": [
    {
     "name": "stdin",
     "output_type": "stream",
     "text": [
      "Enter the weight in kilogram:  80\n",
      "Enter the height in metre:  90\n"
     ]
    },
    {
     "name": "stdout",
     "output_type": "stream",
     "text": [
      "Obese\n"
     ]
    }
   ],
   "source": [
    "weight = float(input(\"Enter the weight in kilogram: \"))\n",
    "height = float(input(\"Enter the height in metre: \"))\n",
    "BMI = weight % height\n",
    "if BMI <= 18.4:\n",
    "    print(\"Underweight\")\n",
    "elif 18.5<= BMI < 24.9:\n",
    "    print(\"Normal\")\n",
    "elif 25.0 <= BMI < 39.9:\n",
    "    print(\"Overweight\")\n",
    "elif BMI >= 40.0:\n",
    "    print(\"Obese\")\n"
   ]
  },
  {
   "cell_type": "markdown",
   "id": "8a18e961-5c5e-4e22-b9a9-31c1e84efb40",
   "metadata": {},
   "source": [
    "Solution 24"
   ]
  },
  {
   "cell_type": "code",
   "execution_count": 18,
   "id": "bcd133ae-942c-4669-abb5-5e27f3409a1a",
   "metadata": {},
   "outputs": [
    {
     "name": "stdin",
     "output_type": "stream",
     "text": [
      "Enter the number:  75\n"
     ]
    },
    {
     "name": "stdout",
     "output_type": "stream",
     "text": [
      "positive\n"
     ]
    }
   ],
   "source": [
    "num = int(input(\"Enter the number: \"))\n",
    "if num > 0:\n",
    "    print(\"positive\")\n",
    "elif num < 0:\n",
    "    print(\"negative\")\n",
    "elif num == 0:\n",
    "    print(\"zero\")\n",
    "\n"
   ]
  },
  {
   "cell_type": "markdown",
   "id": "b999b151-d27e-45fa-ba15-9056d81a24bc",
   "metadata": {},
   "source": [
    "Solution 25"
   ]
  },
  {
   "cell_type": "code",
   "execution_count": 19,
   "id": "642dc375-77b3-4676-ac06-cd8e7636d842",
   "metadata": {},
   "outputs": [
    {
     "name": "stdin",
     "output_type": "stream",
     "text": [
      "Enter a character:  pwskills\n"
     ]
    },
    {
     "name": "stdout",
     "output_type": "stream",
     "text": [
      "Lowercase\n"
     ]
    }
   ],
   "source": [
    "char = input(\"Enter a character: \")\n",
    "\n",
    "if char.isupper():\n",
    "    print(\"Uppercase\")\n",
    "elif char.islower():\n",
    "    print(\"Lowercase\")\n",
    "else:\n",
    "    print(\"Special Character\")\n",
    "\n"
   ]
  },
  {
   "cell_type": "markdown",
   "id": "f81ee25c-9de6-4099-937c-b867e94de3ce",
   "metadata": {},
   "source": [
    "Solution 26"
   ]
  },
  {
   "cell_type": "code",
   "execution_count": 20,
   "id": "af560d6d-d414-4e74-918d-2e142d02c1e2",
   "metadata": {},
   "outputs": [
    {
     "name": "stdin",
     "output_type": "stream",
     "text": [
      "Enter the purchase amount: $ 987\n"
     ]
    },
    {
     "name": "stdout",
     "output_type": "stream",
     "text": [
      "Discounted price: $ 937.65\n"
     ]
    }
   ],
   "source": [
    "purchase_amount = float(input(\"Enter the purchase amount: $\"))\n",
    "\n",
    "if purchase_amount >= 1000:\n",
    "    discount = 0.1  \n",
    "elif purchase_amount >= 500:\n",
    "    discount = 0.05  \n",
    "elif purchase_amount >= 100:\n",
    "    discount = 0.02  \n",
    "else:\n",
    "    discount = 0\n",
    "    \n",
    "discounted_price = purchase_amount - (purchase_amount * discount)\n",
    "print(\"Discounted price: $\", discounted_price)\n"
   ]
  },
  {
   "cell_type": "markdown",
   "id": "6d0accd7-f974-4622-a640-8b2c8212ab8c",
   "metadata": {},
   "source": [
    "Solution 27"
   ]
  },
  {
   "cell_type": "code",
   "execution_count": 22,
   "id": "09e278a9-1735-4635-949d-9f047ae585fe",
   "metadata": {},
   "outputs": [
    {
     "name": "stdin",
     "output_type": "stream",
     "text": [
      "Enter the consumed units:  987\n"
     ]
    },
    {
     "name": "stdout",
     "output_type": "stream",
     "text": [
      "Electricity bill amount: $ 2711.0\n"
     ]
    }
   ],
   "source": [
    "\n",
    "SLAB_1_LIMIT = 100  \n",
    "SLAB_2_LIMIT = 200  \n",
    "RATE_SLAB_1 = 1.50  \n",
    "RATE_SLAB_2 = 2.00   \n",
    "RATE_SLAB_3 = 3.00   \n",
    "consumed_units = float(input(\"Enter the consumed units: \"))\n",
    "if consumed_units <= SLAB_1_LIMIT:\n",
    "    bill_amount = consumed_units * RATE_SLAB_1\n",
    "elif consumed_units <= SLAB_2_LIMIT:\n",
    "    bill_amount = SLAB_1_LIMIT * RATE_SLAB_1 + (consumed_units - SLAB_1_LIMIT) * RATE_SLAB_2\n",
    "else:\n",
    "    bill_amount = SLAB_1_LIMIT * RATE_SLAB_1 + (SLAB_2_LIMIT - SLAB_1_LIMIT) * RATE_SLAB_2 + (consumed_units - SLAB_2_LIMIT) * RATE_SLAB_3\n",
    "print(\"Electricity bill amount: $\", bill_amount)\n"
   ]
  },
  {
   "cell_type": "markdown",
   "id": "261855c0-850e-4b5c-8e64-5818521ffbe0",
   "metadata": {},
   "source": [
    "Solution 28"
   ]
  },
  {
   "cell_type": "code",
   "execution_count": 23,
   "id": "37d3257d-c79a-4de2-a484-234c49644051",
   "metadata": {},
   "outputs": [
    {
     "name": "stdin",
     "output_type": "stream",
     "text": [
      "Enter the first angle (in degrees):  89\n",
      "Enter the second angle (in degrees):  96\n",
      "Enter the third angle (in degrees):  60\n",
      "Enter the fourth angle (in degrees):  58\n",
      "Enter the length of side 1:  87\n",
      "Enter the length of side 2:  9\n",
      "Enter the length of side 3:  7\n",
      "Enter the length of side 4:  8\n"
     ]
    },
    {
     "name": "stdout",
     "output_type": "stream",
     "text": [
      "It is a general quadrilateral.\n"
     ]
    }
   ],
   "source": [
    "\n",
    "angle1 = float(input(\"Enter the first angle (in degrees): \"))\n",
    "angle2 = float(input(\"Enter the second angle (in degrees): \"))\n",
    "angle3 = float(input(\"Enter the third angle (in degrees): \"))\n",
    "angle4 = float(input(\"Enter the fourth angle (in degrees): \"))\n",
    "side1 = float(input(\"Enter the length of side 1: \"))\n",
    "side2 = float(input(\"Enter the length of side 2: \"))\n",
    "side3 = float(input(\"Enter the length of side 3: \"))\n",
    "side4 = float(input(\"Enter the length of side 4: \"))\n",
    "if angle1 == angle2 == angle3 == angle4 == 90:\n",
    "    print(\"It is a rectangle.\")\n",
    "elif angle1 == angle2 == angle3 == angle4 < 90:\n",
    "    print(\"It is a parallelogram.\")\n",
    "elif (angle1 + angle2 + angle3 + angle4 == 360) and (side1 == side2 == side3 == side4):\n",
    "    print(\"It is a rhombus.\")\n",
    "elif (angle1 == angle3) and (angle2 == angle4) and (side1 == side3) and (side2 == side4):\n",
    "    print(\"It is a kite.\")\n",
    "elif (angle1 == angle3) and (angle2 == angle4) and (side1 != side3) and (side2 != side4):\n",
    "    print(\"It is a trapezoid.\")\n",
    "else:\n",
    "    print(\"It is a general quadrilateral.\")\n"
   ]
  },
  {
   "cell_type": "markdown",
   "id": "75bfea5d-8918-48ea-b9e5-0ae4abc66b8d",
   "metadata": {},
   "source": [
    "Solution 29"
   ]
  },
  {
   "cell_type": "code",
   "execution_count": 24,
   "id": "622ed16b-c36c-40fb-9a94-73f686434c87",
   "metadata": {},
   "outputs": [
    {
     "name": "stdin",
     "output_type": "stream",
     "text": [
      "Enter the month:  may\n"
     ]
    },
    {
     "name": "stdout",
     "output_type": "stream",
     "text": [
      "The season for May is Spring.\n"
     ]
    }
   ],
   "source": [
    "month = input(\"Enter the month: \")\n",
    "\n",
    "if month.lower() in [\"december\", \"january\", \"february\"]:\n",
    "    season = \"Winter\"\n",
    "elif month.lower() in [\"march\", \"april\", \"may\"]:\n",
    "    season = \"Spring\"\n",
    "elif month.lower() in [\"june\", \"july\", \"august\"]:\n",
    "    season = \"Summer\"\n",
    "elif month.lower() in [\"september\", \"october\", \"november\"]:\n",
    "    season = \"Autumn/Fall\"\n",
    "else:\n",
    "    season = \"Unknown\"\n",
    "\n",
    "print(f\"The season for {month.capitalize()} is {season}.\")\n",
    "\n"
   ]
  },
  {
   "cell_type": "markdown",
   "id": "96f23c73-b082-4bcc-8718-ef2253303855",
   "metadata": {},
   "source": [
    "Solution 30"
   ]
  },
  {
   "cell_type": "code",
   "execution_count": 25,
   "id": "bed1bdcb-2e9d-4cc6-8cc4-cb9e146d8e92",
   "metadata": {},
   "outputs": [
    {
     "name": "stdin",
     "output_type": "stream",
     "text": [
      "Enter the year:  2024\n",
      "Enter the month:  may\n"
     ]
    },
    {
     "name": "stdout",
     "output_type": "stream",
     "text": [
      "The year 2024 is a Leap year and May has 31 days.\n"
     ]
    }
   ],
   "source": [
    "year = int(input(\"Enter the year: \"))\n",
    "month = input(\"Enter the month: \")\n",
    "if (year % 4 == 0 and year % 100 != 0) or (year % 400 == 0):\n",
    "    year_type = \"Leap\"\n",
    "else:\n",
    "    year_type = \"Common\"\n",
    "if month.lower() in [\"january\", \"march\", \"may\", \"july\", \"august\", \"october\", \"december\"]:\n",
    "    days_in_month = 31\n",
    "elif month.lower() in [\"april\", \"june\", \"september\", \"november\"]:\n",
    "    days_in_month = 30\n",
    "elif month.lower() == \"february\":\n",
    "    if year_type == \"Leap\":\n",
    "        days_in_month = 29\n",
    "    else:\n",
    "        days_in_month = 28\n",
    "else:\n",
    "    days_in_month = \"Invalid\"\n",
    "if days_in_month != \"Invalid\":\n",
    "    print(f\"The year {year} is a {year_type} year and {month.capitalize()} has {days_in_month} days.\")\n",
    "else:\n",
    "    print(\"Invalid month input.\")\n"
   ]
  }
 ],
 "metadata": {
  "kernelspec": {
   "display_name": "Python 3 (ipykernel)",
   "language": "python",
   "name": "python3"
  },
  "language_info": {
   "codemirror_mode": {
    "name": "ipython",
    "version": 3
   },
   "file_extension": ".py",
   "mimetype": "text/x-python",
   "name": "python",
   "nbconvert_exporter": "python",
   "pygments_lexer": "ipython3",
   "version": "3.10.8"
  }
 },
 "nbformat": 4,
 "nbformat_minor": 5
}
